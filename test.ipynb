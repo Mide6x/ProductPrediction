{
 "cells": [
  {
   "cell_type": "code",
   "execution_count": 27,
   "metadata": {},
   "outputs": [],
   "source": [
    "import os\n",
    "from dotenv import load_dotenv\n",
    "from openai import OpenAI\n",
    "import json\n"
   ]
  },
  {
   "cell_type": "code",
   "execution_count": 28,
   "metadata": {},
   "outputs": [],
   "source": [
    "load_dotenv()\n",
    "\n",
    "client = OpenAI(\n",
    "    api_key=os.environ['OPENAI_API_KEY']\n",
    ")"
   ]
  },
  {
   "cell_type": "markdown",
   "metadata": {},
   "source": [
    "### load Test Data"
   ]
  },
  {
   "cell_type": "code",
   "execution_count": 30,
   "metadata": {},
   "outputs": [],
   "source": [
    "def load_categories(filename: str) -> dict:\n",
    "    \"\"\"\n",
    "    Loads categories and subcategories from a JSON file and converts them into a dictionary.\n",
    "\n",
    "    Parameters:\n",
    "        - filename (str): The path to the JSON file containing categories and subcategories.\n",
    "\n",
    "    Returns:\n",
    "        - dict: A dictionary with main categories as keys and corresponding subcategories as values.\n",
    "    \"\"\"\n",
    "    try:\n",
    "        with open(filename, 'r') as file:\n",
    "            data = json.load(file)\n",
    "            categories_dict = {item[\"categories\"]: item[\"subcategories\"] for item in data}\n",
    "            return categories_dict\n",
    "    except FileNotFoundError:\n",
    "        print(f\"Error: The file {filename} was not found.\")\n",
    "        return {}\n",
    "    except json.JSONDecodeError:\n",
    "        print(f\"Error: The file {filename} contains invalid JSON.\")\n",
    "        return {}\n",
    "\n",
    "categories_data = load_categories(\"data.json\")"
   ]
  },
  {
   "cell_type": "code",
   "execution_count": 33,
   "metadata": {},
   "outputs": [
    {
     "data": {
      "text/plain": [
       "{'Breakfast & Cereals': ['Oats & Instant Cereals',\n",
       "  'Sugar, Honey & Sweeteners',\n",
       "  'Butter, Cheese & Other Spreads'],\n",
       " ' Beverages & Milk': ['Cocoa Beverages',\n",
       "  'Everyday Tea',\n",
       "  'Coffee',\n",
       "  'Herbal Teas',\n",
       "  'Milk'],\n",
       " 'Cooking Paste, Oil & Spices': ['Tomato Paste',\n",
       "  'Cooking Oils',\n",
       "  'Salt & Seasoning Cubes',\n",
       "  'Herbs & Spices'],\n",
       " 'Foodstuff': ['Grains & Rice',\n",
       "  'Pasta & Noodles',\n",
       "  'Poundo, Wheat & Semolina',\n",
       "  'Canned Foods'],\n",
       " 'Snacks & Confectioneries': ['Biscuits, Chin Chin & Cookies',\n",
       "  'Nuts & Seeds',\n",
       "  'Chocolates & Sweets',\n",
       "  'Dry Fruits'],\n",
       " 'Baking Ingredients': ['Flour & Baking Powder', 'Baking Tools & Accessories'],\n",
       " 'Alcoholic Drinks': ['Beer',\n",
       "  'Liquers & Creams',\n",
       "  'Cognac & Spirits',\n",
       "  'Wines & Champagne'],\n",
       " 'Non-Alcoholic Drinks': ['Fizzy Drinks & Malt',\n",
       "  'Energy Drinks',\n",
       "  'Wines',\n",
       "  'Fruit Juices & Yoghurt',\n",
       "  'Water'],\n",
       " 'Baby & Kids': ['Diapering',\n",
       "  'Baby & Toddler Health',\n",
       "  'Daily Care',\n",
       "  'Feeding & Nursing',\n",
       "  'Toys & Gears',\n",
       "  'School Bag'],\n",
       " 'Detergent & Laundry Supplies': ['Bar Soaps & Detergents',\n",
       "  'Bathroom & Toilet Cleaners',\n",
       "  'Fabric Softeners',\n",
       "  'Dish Washers',\n",
       "  'Glass Cleaner',\n",
       "  'Disinfectant & Sprays'],\n",
       " 'Home Care & Household Supplies': ['Paper Towels & Serviettes',\n",
       "  'Foil Paper & Cling Film',\n",
       "  'Pests & Insect Control',\n",
       "  'Lighters and Match Box',\n",
       "  'Air Fresheners'],\n",
       " 'Beauty & Personal Care': ['Skin Care',\n",
       "  'Oral Care',\n",
       "  'Hair Care',\n",
       "  'Fragrances',\n",
       "  'Feminine Care',\n",
       "  \"Men's Grooming\",\n",
       "  'Make-up',\n",
       "  'Male Shoe',\n",
       "  'Female Shoe']}"
      ]
     },
     "execution_count": 33,
     "metadata": {},
     "output_type": "execute_result"
    }
   ],
   "source": [
    "categories_data"
   ]
  },
  {
   "cell_type": "markdown",
   "metadata": {},
   "source": [
    "## 1. Predict Category"
   ]
  },
  {
   "cell_type": "code",
   "execution_count": 34,
   "metadata": {},
   "outputs": [],
   "source": [
    "def predict_main_category(product_name: str, client: OpenAI, data: dict) -> str:\n",
    "    \"\"\"\n",
    "    Predicts the main category of a product using the OpenAI GPT API.\n",
    "\n",
    "    Parameters:\n",
    "        - product_name (str): The name of the product.\n",
    "        - client (OpenAI): An instantiated OpenAI client.\n",
    "        - data (dict): A dictionary containing main categories and their subcategories.\n",
    "\n",
    "    Returns:\n",
    "        - str: Predicted main category.\n",
    "    \"\"\"\n",
    "    # Extract main categories from the data\n",
    "    main_categories = list(data.keys())\n",
    "\n",
    "    prompt = f\"\"\"\n",
    "    You are a product categorization assistant. Based on the following main categories, \n",
    "    assign the correct main category to the product.\n",
    "\n",
    "    Main Categories:\n",
    "    {', '.join(main_categories)}\n",
    "\n",
    "    Product: \"{product_name}\"\n",
    "    \n",
    "    Provide the result in the following format:\n",
    "    MainCategory: [Category]\n",
    "    \"\"\"\n",
    "\n",
    "    response = client.chat.completions.create(\n",
    "        model=\"gpt-3.5-turbo\",\n",
    "        messages=[{\"role\": \"user\", \"content\": prompt}],\n",
    "        max_tokens=50,\n",
    "        temperature=0.5,\n",
    "    )\n",
    "\n",
    "    result = response.choices[0].message.content.strip()\n",
    "    category = result.split(\":\")[1].strip() if \"MainCategory:\" in result else \"Unknown\"\n",
    "\n",
    "    return category"
   ]
  },
  {
   "cell_type": "markdown",
   "metadata": {},
   "source": [
    "## 2. Subcategory"
   ]
  },
  {
   "cell_type": "code",
   "execution_count": 38,
   "metadata": {},
   "outputs": [],
   "source": [
    "def predict_subcategory(product_name: str, main_category: str, client: OpenAI, data: dict) -> str:\n",
    "    \"\"\"\n",
    "    Predicts the subcategory of a product based on a selected main category using the OpenAI GPT API.\n",
    "\n",
    "    Parameters:\n",
    "        - product_name (str): The name of the product.\n",
    "        - main_category (str): The selected main category.\n",
    "        - client (OpenAI): The instantiated OpenAI client.\n",
    "        - data (dict): A dictionary containing categories and subcategories.\n",
    "\n",
    "    Returns:\n",
    "        - str: Predicted subcategory.\n",
    "    \"\"\"\n",
    "    available_subcategories = data.get(main_category, [])\n",
    "\n",
    "    prompt = f\"\"\"\n",
    "    You are a product categorization assistant. Based on the main category \"{main_category}\" and its subcategories, \n",
    "    assign the correct subcategory to the product.\n",
    "\n",
    "    Subcategories:\n",
    "    {', '.join(available_subcategories)}\n",
    "\n",
    "    Product: \"{product_name}\"\n",
    "\n",
    "    Provide the result in the following format:\n",
    "    Subcategory: [Subcategory]\n",
    "    \"\"\"\n",
    "    response = client.chat.completions.create(\n",
    "        model=\"gpt-3.5-turbo\",\n",
    "        messages=[{\"role\": \"user\", \"content\": prompt}],\n",
    "        max_tokens=50,\n",
    "        temperature=0.5,\n",
    "    )\n",
    "\n",
    "\n",
    "    result = response.choices[0].message.content.strip()\n",
    "    subcategory = result.split(\":\")[1].strip() if \"Subcategory:\" in result else \"Unknown\"\n",
    "    \n",
    "    return subcategory"
   ]
  },
  {
   "cell_type": "markdown",
   "metadata": {},
   "source": [
    "## 3. Manufacturer Prediction"
   ]
  },
  {
   "cell_type": "code",
   "execution_count": 41,
   "metadata": {},
   "outputs": [],
   "source": [
    "def predict_manufacturers(product_name: str, client: OpenAI) -> list:\n",
    "    \"\"\"\n",
    "    Predicts the top 4 most probable manufacturers of a product using the OpenAI GPT API.\n",
    "\n",
    "    Parameters:\n",
    "        - product_name (str): The name of the product.\n",
    "        - client (OpenAI): An instantiated OpenAI client.\n",
    "\n",
    "    Returns:\n",
    "        - list: List of the top 4 predicted manufacturers.\n",
    "    \"\"\"\n",
    "\n",
    "    prompt = f\"\"\"\n",
    "    You are a product categorization assistant. Based on the product name, \n",
    "    predict the top 4 most probable manufacturers for the product.\n",
    "\n",
    "    Product: \"{product_name}\"\n",
    "\n",
    "    Provide the result in the following format:\n",
    "    Manufacturers: [Manufacturer1, Manufacturer2, Manufacturer3, Manufacturer4]\n",
    "    \"\"\"\n",
    "\n",
    "    response = client.chat.completions.create(\n",
    "        model=\"gpt-3.5-turbo\",\n",
    "        messages=[{\"role\": \"user\", \"content\": prompt}],\n",
    "        max_tokens=100,\n",
    "        temperature=0.5,\n",
    "    )\n",
    "\n",
    "    result = response.choices[0].message.content.strip()\n",
    "    if \"Manufacturers:\" in result:\n",
    "        manufacturers = result.split(\":\")[1].strip().split(\",\")\n",
    "        manufacturers = [m.strip() for m in manufacturers if m.strip()]\n",
    "    else:\n",
    "        manufacturers = []\n",
    "\n",
    "    return manufacturers[:4]"
   ]
  },
  {
   "cell_type": "markdown",
   "metadata": {},
   "source": [
    "## test"
   ]
  },
  {
   "cell_type": "code",
   "execution_count": 42,
   "metadata": {},
   "outputs": [
    {
     "name": "stdout",
     "output_type": "stream",
     "text": [
      "Predicted Main Category: Beverages & Milk\n",
      "Predicted Subcategory: Fruit Drinks\n",
      "Predicted Manufacturers: ['[Five Alive', 'Minute Maid', 'Tropicana', \"Welch's]\"]\n"
     ]
    }
   ],
   "source": [
    "categories_data = load_categories(\"data.json\")\n",
    "\n",
    "product_name = \"Five Alive Berry Blast Fruit Drink\"\n",
    "\n",
    "#Category Predicion\n",
    "predicted_category = predict_main_category(product_name, client, categories_data)\n",
    "print(f\"Predicted Main Category: {predicted_category}\")\n",
    "\n",
    "# Subcategory Prediction\n",
    "main_category = predicted_category\n",
    "\n",
    "predicted_subcategory = predict_subcategory(product_name, main_category, client, categories_data)\n",
    "print(f\"Predicted Subcategory: {predicted_subcategory}\")\n",
    "\n",
    "# Manufacturer Prediction\n",
    "predicted_manufacturers = predict_manufacturers(product_name, client)\n",
    "print(f\"Predicted Manufacturers: {predicted_manufacturers}\")"
   ]
  }
 ],
 "metadata": {
  "kernelspec": {
   "display_name": ".venv",
   "language": "python",
   "name": "python3"
  },
  "language_info": {
   "codemirror_mode": {
    "name": "ipython",
    "version": 3
   },
   "file_extension": ".py",
   "mimetype": "text/x-python",
   "name": "python",
   "nbconvert_exporter": "python",
   "pygments_lexer": "ipython3",
   "version": "3.12.3"
  }
 },
 "nbformat": 4,
 "nbformat_minor": 2
}
